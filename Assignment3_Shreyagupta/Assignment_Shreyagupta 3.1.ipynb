{
 "cells": [
  {
   "cell_type": "code",
   "execution_count": 5,
   "metadata": {},
   "outputs": [
    {
     "data": {
      "text/plain": [
       "['3','8','7','5','4']"
      ]
     },
     "execution_count": 5,
     "metadata": {},
     "output_type": "execute_result"
    }
   ],
   "source": [
    "class Node:\n",
    "    def __init__(self,data=None,next=None):\n",
    "        self.data=data\n",
    "        self.next=next\n",
    "    def __repr__(self):\n",
    "        return repr(self.data)\n",
    "class LinkedList:\n",
    "    def __init__(self):\n",
    "        self.head=None\n",
    "    def __repr__(self):\n",
    "        nodes=[]\n",
    "        curr=self.head\n",
    "        while curr:\n",
    "            nodes.append(repr(curr))\n",
    "            curr=curr.next\n",
    "        return '[' + ','.join(nodes)+']'\n",
    "    def insertend(self,data):\n",
    "        if not self.head:\n",
    "            self.head=Node(data)\n",
    "            return\n",
    "        else:\n",
    "            curr=self.head\n",
    "            while curr.next:\n",
    "                curr=curr.next\n",
    "            curr.next=Node(data)\n",
    "a=LinkedList()\n",
    "a.insertend('3')\n",
    "a.insertend('8')\n",
    "a.insertend('7')\n",
    "a.insertend('5')\n",
    "a.insertend('4')\n",
    "a"
   ]
  }
 ],
 "metadata": {
  "kernelspec": {
   "display_name": "Python 3",
   "language": "python",
   "name": "python3"
  },
  "language_info": {
   "codemirror_mode": {
    "name": "ipython",
    "version": 3
   },
   "file_extension": ".py",
   "mimetype": "text/x-python",
   "name": "python",
   "nbconvert_exporter": "python",
   "pygments_lexer": "ipython3",
   "version": "3.6.0"
  }
 },
 "nbformat": 4,
 "nbformat_minor": 2
}

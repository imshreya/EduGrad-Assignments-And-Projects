{
 "cells": [
  {
   "cell_type": "code",
   "execution_count": null,
   "metadata": {},
   "outputs": [],
   "source": [
    "import numpy as np\n",
    "import matplotlib.pyplot as plt"
   ]
  },
  {
   "cell_type": "markdown",
   "metadata": {},
   "source": [
    "### Program: 1 Write a Python program to convert a list of numeric value into a one-dimensional NumPy array. "
   ]
  },
  {
   "cell_type": "code",
   "execution_count": 6,
   "metadata": {},
   "outputs": [
    {
     "name": "stdout",
     "output_type": "stream",
     "text": [
      "Enter the Number :10\n",
      "Don't want to continue appending the number at the end of the list press 0 else press any non zero number:\n",
      "Enter the Number :1\n",
      "Enter the Number :20\n",
      "Don't want to continue appending the number at the end of the list press 0 else press any non zero number:\n",
      "Enter the Number :1\n",
      "Enter the Number :30\n",
      "Don't want to continue appending the number at the end of the list press 0 else press any non zero number:\n",
      "Enter the Number :1\n",
      "Enter the Number :40\n",
      "Don't want to continue appending the number at the end of the list press 0 else press any non zero number:\n",
      "Enter the Number :1\n",
      "Enter the Number :50\n",
      "Don't want to continue appending the number at the end of the list press 0 else press any non zero number:\n",
      "Enter the Number :0\n",
      "[10 20 30 40 50]\n",
      "<class 'numpy.ndarray'>\n"
     ]
    }
   ],
   "source": [
    "number=[]\n",
    "n=1\n",
    "while(n):\n",
    "    n=int(input(\"Enter the Number :\"))\n",
    "    number.append(n)\n",
    "    print(\"Don't want to continue appending the number at the end of the list press 0 else press any non zero number:\")\n",
    "    n=int(input(\"Enter the Number :\"))\n",
    "\n",
    "arr=np.array(number)\n",
    "print(arr)\n",
    "print(type(arr))"
   ]
  },
  {
   "cell_type": "markdown",
   "metadata": {},
   "source": [
    "### Program: 2 Create a 3x3 matrix with values ranging from 2 to 10."
   ]
  },
  {
   "cell_type": "code",
   "execution_count": 9,
   "metadata": {},
   "outputs": [
    {
     "name": "stdout",
     "output_type": "stream",
     "text": [
      "[[ 2  3  4]\n",
      " [ 5  6  7]\n",
      " [ 8  9 10]]\n",
      "<class 'numpy.ndarray'>\n"
     ]
    }
   ],
   "source": [
    "matrix=np.arange(2,11).reshape(3,3)\n",
    "print(matrix)\n",
    "print(type(matrix))"
   ]
  },
  {
   "cell_type": "markdown",
   "metadata": {},
   "source": [
    "### Program: 3 Write a Python program to reverse an array (first element becomes last)."
   ]
  },
  {
   "cell_type": "code",
   "execution_count": 13,
   "metadata": {},
   "outputs": [
    {
     "name": "stdout",
     "output_type": "stream",
     "text": [
      "[50 40 30 20 10]\n"
     ]
    }
   ],
   "source": [
    "'''Using the same array that is in the Question 1'''\n",
    "reverse_arr=arr[::-1]\n",
    "print(reverse_arr)"
   ]
  },
  {
   "cell_type": "markdown",
   "metadata": {},
   "source": [
    "### Program: 4 Write a Python program to append values to the end of an array.(Use Numpy append() method ) "
   ]
  },
  {
   "cell_type": "code",
   "execution_count": 31,
   "metadata": {},
   "outputs": [
    {
     "name": "stdout",
     "output_type": "stream",
     "text": [
      "Enter the number that you want to append end the end of the array :100\n",
      "Want to continue PRESS 1 Else PRESS 0 :\n",
      "PRESS:1\n",
      "Enter the number that you want to append end the end of the array :200\n",
      "Want to continue PRESS 1 Else PRESS 0 :\n",
      "PRESS:1\n",
      "Enter the number that you want to append end the end of the array :300\n",
      "Want to continue PRESS 1 Else PRESS 0 :\n",
      "PRESS:0\n",
      "[ 10  20  30  40  50 100 100 100 200 300]\n",
      "<class 'numpy.ndarray'>\n"
     ]
    }
   ],
   "source": [
    "n=1\n",
    "while(n):\n",
    "    n=int(input(\"Enter the number that you want to append end the end of the array :\"))\n",
    "    arr=np.append(arr,n)\n",
    "    print(\"Want to continue PRESS 1 Else PRESS 0 :\")\n",
    "    n=int(input(\"PRESS:\"))\n",
    "print(arr)\n",
    "print(type(arr))"
   ]
  },
  {
   "cell_type": "markdown",
   "metadata": {},
   "source": [
    "### Program: 5 Find indices of non-zero elements from [1,2,0,0,4,0]"
   ]
  },
  {
   "cell_type": "code",
   "execution_count": 35,
   "metadata": {},
   "outputs": [
    {
     "name": "stdout",
     "output_type": "stream",
     "text": [
      "[1 2 0 0 4 0]\n",
      "(array([0, 1, 4], dtype=int64),)\n"
     ]
    }
   ],
   "source": [
    "array=np.array([1,2,0,0,4,0])\n",
    "print(array)\n",
    "indicies=np.where(array)\n",
    "print(indicies)"
   ]
  },
  {
   "cell_type": "markdown",
   "metadata": {},
   "source": [
    "### Program: 6 Create a null vector of size 10"
   ]
  },
  {
   "cell_type": "code",
   "execution_count": 42,
   "metadata": {},
   "outputs": [
    {
     "name": "stdout",
     "output_type": "stream",
     "text": [
      "[0. 0. 0. 0. 0. 0. 0. 0. 0. 0.]\n",
      "<class 'numpy.ndarray'>\n"
     ]
    }
   ],
   "source": [
    "null_vector=np.zeros(10)\n",
    "print(null_vector)\n",
    "print(type(null_vector))"
   ]
  },
  {
   "cell_type": "markdown",
   "metadata": {},
   "source": [
    "### Program: 7 Create a null vector of size 10 but the fifth value which is 1"
   ]
  },
  {
   "cell_type": "code",
   "execution_count": 43,
   "metadata": {},
   "outputs": [
    {
     "name": "stdout",
     "output_type": "stream",
     "text": [
      "[0 0 0 0 1 0 0 0 0 0]\n",
      "<class 'numpy.ndarray'>\n"
     ]
    }
   ],
   "source": [
    "null_vector_position5=(np.arange(10)==4)*1\n",
    "print(null_vector_position5)\n",
    "print(type(null_vector_position5))"
   ]
  },
  {
   "cell_type": "markdown",
   "metadata": {},
   "source": [
    "### Program: 8 Create a random vector of size 10 and sort it"
   ]
  },
  {
   "cell_type": "code",
   "execution_count": 49,
   "metadata": {},
   "outputs": [
    {
     "name": "stdout",
     "output_type": "stream",
     "text": [
      "[0.12688525 0.40781322 0.41496855 0.44680797 0.47584743 0.49986848\n",
      " 0.69897905 0.6990605  0.72600408 0.86065258]\n",
      "<class 'numpy.ndarray'>\n"
     ]
    }
   ],
   "source": [
    "random_sorted_array=np.sort(np.random.random(10))\n",
    "print(random_sorted_array)\n",
    "print(type(random_sorted_array))"
   ]
  },
  {
   "cell_type": "markdown",
   "metadata": {},
   "source": [
    "### Program: 9 Subtract the mean of each row of a matrix"
   ]
  },
  {
   "cell_type": "code",
   "execution_count": 55,
   "metadata": {},
   "outputs": [
    {
     "name": "stdout",
     "output_type": "stream",
     "text": [
      "[[20 21 22 23 24]\n",
      " [25 26 27 28 29]]\n",
      "[[22.]\n",
      " [27.]]\n",
      "[[-2. -1.  0.  1.  2.]\n",
      " [-2. -1.  0.  1.  2.]]\n"
     ]
    }
   ],
   "source": [
    "matrix=np.arange(20,30).reshape([2,5])\n",
    "print(matrix)\n",
    "mean_matrix=matrix.mean(axis=1).reshape(2,1)\n",
    "print(mean_matrix)\n",
    "matrix=matrix-mean_matrix\n",
    "print(matrix)"
   ]
  },
  {
   "cell_type": "markdown",
   "metadata": {},
   "source": [
    "### Program: 10\n",
    "\n",
    "###  Create a histogram using Numpy for the following data 1,2,1,3,4,,5,1,3,4,1,2,3,5,4,1,2,3,4,1,3,2\n",
    "\n",
    "### with the bin range bins=[0, 1, 2, 3, 4, 5, 6]."
   ]
  },
  {
   "cell_type": "code",
   "execution_count": 62,
   "metadata": {
    "scrolled": true
   },
   "outputs": [
    {
     "name": "stdout",
     "output_type": "stream",
     "text": [
      "data= [0 6 4 5 4 2]\n",
      "edges= [0 1 2 3 4 5 6]\n"
     ]
    },
    {
     "data": {
      "image/png": "[encoded data removed]",
      "text/plain": [
       "<Figure size 432x288 with 1 Axes>"
      ]
     },
     "metadata": {},
     "output_type": "display_data"
    }
   ],
   "source": [
    "(data,edges)=np.histogram([1,2,1,3,4,5,1,3,4,1,2,3,5,4,1,2,3,4,1,3,2], bins=[0, 1, 2, 3, 4, 5, 6])\n",
    "print(\"data=\",data)\n",
    "print(\"edges=\",edges)\n",
    "plt.plot(edges[1:],data)\n",
    "plt.show()"
   ]
  },
  {
   "cell_type": "markdown",
   "metadata": {},
   "source": [
    "#### Also use matplotlib to visualize the histogram"
   ]
  },
  {
   "cell_type": "code",
   "execution_count": 63,
   "metadata": {},
   "outputs": [
    {
     "data": {
      "image/png": "[encoded data removed]",
      "text/plain": [
       "<Figure size 432x288 with 1 Axes>"
      ]
     },
     "metadata": {},
     "output_type": "display_data"
    }
   ],
   "source": [
    "plt.hist([1,2,1,3,4,5,1,3,4,1,2,3,5,4,1,2,3,4,1,3,2],bins=[0, 1, 2, 3, 4, 5, 6])\n",
    "plt.show()"
   ]
  }
 ],
 "metadata": {
  "kernelspec": {
   "display_name": "Python 3",
   "language": "python",
   "name": "python3"
  },
  "language_info": {
   "codemirror_mode": {
    "name": "ipython",
    "version": 3
   },
   "file_extension": ".py",
   "mimetype": "text/x-python",
   "name": "python",
   "nbconvert_exporter": "python",
   "pygments_lexer": "ipython3",
   "version": "3.6.5"
  }
 },
 "nbformat": 4,
 "nbformat_minor": 2
}

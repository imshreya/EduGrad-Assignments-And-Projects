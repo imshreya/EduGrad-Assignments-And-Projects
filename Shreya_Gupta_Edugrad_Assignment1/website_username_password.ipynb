{
 "cells": [
  {
   "cell_type": "code",
   "execution_count": null,
   "metadata": {},
   "outputs": [],
   "source": [
    "password=input()\n",
    "if len(password)>=6 and len(password)<=15:\n",
    "    print(password,\" - Password is okay\")\n",
    "elif len(password)<6:\n",
    "    print(password,\" - Password is too short\")\n",
    "else:\n",
    "    print(password,\" - Password is very long\")"
   ]
  }
 ],
 "metadata": {
  "kernelspec": {
   "display_name": "Python 3",
   "language": "python",
   "name": "python3"
  },
  "language_info": {
   "codemirror_mode": {
    "name": "ipython",
    "version": 3
   },
   "file_extension": ".py",
   "mimetype": "text/x-python",
   "name": "python",
   "nbconvert_exporter": "python",
   "pygments_lexer": "ipython3",
   "version": "3.6.5"
  }
 },
 "nbformat": 4,
 "nbformat_minor": 2
}

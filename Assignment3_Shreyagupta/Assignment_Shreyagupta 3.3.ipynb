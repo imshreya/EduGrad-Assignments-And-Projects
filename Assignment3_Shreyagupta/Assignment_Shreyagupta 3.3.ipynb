{
 "cells": [
  {
   "cell_type": "code",
   "execution_count": null,
   "metadata": {},
   "outputs": [],
   "source": [
    "class myQueue:\n",
    "    def __init__(self):\n",
    "        self.queu=[]\n",
    "    def enqueue(self,data):\n",
    "        self.queu.insert(0,data)\n",
    "    def dequeue(self):\n",
    "        return self.queu.pop()\n",
    "    def isEmpty(self):\n",
    "        if(self.queu==[]):\n",
    "            return True\n",
    "        else:\n",
    "            return False\n",
    "q=myQueue()\n",
    "q.enqueue(2)\n",
    "q.enqueue(1)\n",
    "q.enqueue(9)\n",
    "q.enqueue(4)\n",
    "q.enqueue(7)\n",
    "q.dequeue()"
   ]
  }
 ],
 "metadata": {
  "kernelspec": {
   "display_name": "Python 3",
   "language": "python",
   "name": "python3"
  },
  "language_info": {
   "codemirror_mode": {
    "name": "ipython",
    "version": 3
   },
   "file_extension": ".py",
   "mimetype": "text/x-python",
   "name": "python",
   "nbconvert_exporter": "python",
   "pygments_lexer": "ipython3",
   "version": "3.6.0"
  }
 },
 "nbformat": 4,
 "nbformat_minor": 2
}

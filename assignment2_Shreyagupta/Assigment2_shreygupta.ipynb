{
 "cells": [
  {
   "cell_type": "code",
   "execution_count": 6,
   "metadata": {},
   "outputs": [],
   "source": [
    "import csv\n",
    "emp=[]\n",
    "temp=[]"
   ]
  },
  {
   "cell_type": "code",
   "execution_count": 7,
   "metadata": {},
   "outputs": [],
   "source": [
    "with open('new_records.csv','r') as csv_file2:\n",
    "    csv_reader=csv.reader(csv_file2)\n",
    "    for each in csv_reader:\n",
    "        item=[]\n",
    "        name=[]\n",
    "        if(each[0].startswith('emp')):\n",
    "            item.append(each[0][-2:])\n",
    "            name=each[1].split()\n",
    "            item.extend(name)\n",
    "            item.extend(each[2:])\n",
    "            emp.append(item)\n",
    "        else:\n",
    "            item.append(each[0][-2:])\n",
    "            name=each[1].split()\n",
    "            item.extend(name)\n",
    "            item.extend(each[2:])\n",
    "            temp.append(item)"
   ]
  },
  {
   "cell_type": "code",
   "execution_count": 8,
   "metadata": {},
   "outputs": [],
   "source": [
    "with open('employee_list.csv','a',newline='') as csv_file1:\n",
    "    csv_writer1=csv.writer(csv_file1)\n",
    "    csv_writer1.writerows(emp)"
   ]
  },
  {
   "cell_type": "code",
   "execution_count": 9,
   "metadata": {},
   "outputs": [],
   "source": [
    "with open('contractors_list.csv','w',newline='') as csv_file2:\n",
    "    csv_writer2=csv.writer(csv_file2)\n",
    "    csv_writer2.writerows(temp)"
   ]
  }
 ],
 "metadata": {
  "kernelspec": {
   "display_name": "Python 3",
   "language": "python",
   "name": "python3"
  },
  "language_info": {
   "codemirror_mode": {
    "name": "ipython",
    "version": 3
   },
   "file_extension": ".py",
   "mimetype": "text/x-python",
   "name": "python",
   "nbconvert_exporter": "python",
   "pygments_lexer": "ipython3",
   "version": "3.6.5"
  }
 },
 "nbformat": 4,
 "nbformat_minor": 2
}

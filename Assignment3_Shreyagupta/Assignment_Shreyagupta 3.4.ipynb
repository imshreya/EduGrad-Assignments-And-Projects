{
 "cells": [
  {
   "cell_type": "code",
   "execution_count": null,
   "metadata": {},
   "outputs": [],
   "source": [
    "def bubble_sort(a):\n",
    "    for i in range(len(list1)):\n",
    "        for j in range(0,len(list1)-1):\n",
    "            if(list1[j]>list1[j+1]):\n",
    "                t=list1[j]\n",
    "                list1[j]=list1[j+1]\n",
    "                list1[j+1]=t\n",
    "    return a\n",
    "list1=[80,70,90,40,60,50]\n",
    "print(\"Sorted Array is :\",bubble_sort(list1))"
   ]
  }
 ],
 "metadata": {
  "kernelspec": {
   "display_name": "Python 3",
   "language": "python",
   "name": "python3"
  },
  "language_info": {
   "codemirror_mode": {
    "name": "ipython",
    "version": 3
   },
   "file_extension": ".py",
   "mimetype": "text/x-python",
   "name": "python",
   "nbconvert_exporter": "python",
   "pygments_lexer": "ipython3",
   "version": "3.6.0"
  }
 },
 "nbformat": 4,
 "nbformat_minor": 2
}
